{
 "cells": [
  {
   "cell_type": "markdown",
   "metadata": {},
   "source": [
    "Toss a coin three times and roll a dice two times. Record the outcome of the experiment.\n",
    "Write the full sample space by building a tree diagram."
   ]
  },
  {
   "cell_type": "code",
   "execution_count": 5,
   "metadata": {},
   "outputs": [
    {
     "name": "stdout",
     "output_type": "stream",
     "text": [
      "['HHH', 'HHT', 'HTH', 'HTT', 'THH', 'THT', 'TTH', 'TTT']\n",
      "['HHH11', 'HHH12', 'HHH13', 'HHH14', 'HHH15', 'HHH16', 'HHH21', 'HHH22', 'HHH23', 'HHH24', 'HHH25', 'HHH26', 'HHH31', 'HHH32', 'HHH33', 'HHH34', 'HHH35', 'HHH36', 'HHH41', 'HHH42', 'HHH43', 'HHH44', 'HHH45', 'HHH46', 'HHH51', 'HHH52', 'HHH53', 'HHH54', 'HHH55', 'HHH56', 'HHH61', 'HHH62', 'HHH63', 'HHH64', 'HHH65', 'HHH66', 'HHT11', 'HHT12', 'HHT13', 'HHT14', 'HHT15', 'HHT16', 'HHT21', 'HHT22', 'HHT23', 'HHT24', 'HHT25', 'HHT26', 'HHT31', 'HHT32', 'HHT33', 'HHT34', 'HHT35', 'HHT36', 'HHT41', 'HHT42', 'HHT43', 'HHT44', 'HHT45', 'HHT46', 'HHT51', 'HHT52', 'HHT53', 'HHT54', 'HHT55', 'HHT56', 'HHT61', 'HHT62', 'HHT63', 'HHT64', 'HHT65', 'HHT66', 'HTH11', 'HTH12', 'HTH13', 'HTH14', 'HTH15', 'HTH16', 'HTH21', 'HTH22', 'HTH23', 'HTH24', 'HTH25', 'HTH26', 'HTH31', 'HTH32', 'HTH33', 'HTH34', 'HTH35', 'HTH36', 'HTH41', 'HTH42', 'HTH43', 'HTH44', 'HTH45', 'HTH46', 'HTH51', 'HTH52', 'HTH53', 'HTH54', 'HTH55', 'HTH56', 'HTH61', 'HTH62', 'HTH63', 'HTH64', 'HTH65', 'HTH66', 'HTT11', 'HTT12', 'HTT13', 'HTT14', 'HTT15', 'HTT16', 'HTT21', 'HTT22', 'HTT23', 'HTT24', 'HTT25', 'HTT26', 'HTT31', 'HTT32', 'HTT33', 'HTT34', 'HTT35', 'HTT36', 'HTT41', 'HTT42', 'HTT43', 'HTT44', 'HTT45', 'HTT46', 'HTT51', 'HTT52', 'HTT53', 'HTT54', 'HTT55', 'HTT56', 'HTT61', 'HTT62', 'HTT63', 'HTT64', 'HTT65', 'HTT66', 'THH11', 'THH12', 'THH13', 'THH14', 'THH15', 'THH16', 'THH21', 'THH22', 'THH23', 'THH24', 'THH25', 'THH26', 'THH31', 'THH32', 'THH33', 'THH34', 'THH35', 'THH36', 'THH41', 'THH42', 'THH43', 'THH44', 'THH45', 'THH46', 'THH51', 'THH52', 'THH53', 'THH54', 'THH55', 'THH56', 'THH61', 'THH62', 'THH63', 'THH64', 'THH65', 'THH66', 'THT11', 'THT12', 'THT13', 'THT14', 'THT15', 'THT16', 'THT21', 'THT22', 'THT23', 'THT24', 'THT25', 'THT26', 'THT31', 'THT32', 'THT33', 'THT34', 'THT35', 'THT36', 'THT41', 'THT42', 'THT43', 'THT44', 'THT45', 'THT46', 'THT51', 'THT52', 'THT53', 'THT54', 'THT55', 'THT56', 'THT61', 'THT62', 'THT63', 'THT64', 'THT65', 'THT66', 'TTH11', 'TTH12', 'TTH13', 'TTH14', 'TTH15', 'TTH16', 'TTH21', 'TTH22', 'TTH23', 'TTH24', 'TTH25', 'TTH26', 'TTH31', 'TTH32', 'TTH33', 'TTH34', 'TTH35', 'TTH36', 'TTH41', 'TTH42', 'TTH43', 'TTH44', 'TTH45', 'TTH46', 'TTH51', 'TTH52', 'TTH53', 'TTH54', 'TTH55', 'TTH56', 'TTH61', 'TTH62', 'TTH63', 'TTH64', 'TTH65', 'TTH66', 'TTT11', 'TTT12', 'TTT13', 'TTT14', 'TTT15', 'TTT16', 'TTT21', 'TTT22', 'TTT23', 'TTT24', 'TTT25', 'TTT26', 'TTT31', 'TTT32', 'TTT33', 'TTT34', 'TTT35', 'TTT36', 'TTT41', 'TTT42', 'TTT43', 'TTT44', 'TTT45', 'TTT46', 'TTT51', 'TTT52', 'TTT53', 'TTT54', 'TTT55', 'TTT56', 'TTT61', 'TTT62', 'TTT63', 'TTT64', 'TTT65', 'TTT66']\n"
     ]
    }
   ],
   "source": [
    "CT=[\"H\",\"T\"] #This lists all the possible results of a coin toss.\n",
    "RD=[\"1\",\"2\",\"3\",\"4\",\"5\",\"6\"] #This lists possible results of a die roll.\n",
    "#Now we toss a coin three times and construct a tree diagram\n",
    "tree=[]\n",
    "treeU=CT\n",
    "#IP0\n",
    "#print(treeU)\n",
    "for i in range(0,2):\n",
    " for toss in treeU:\n",
    "  for x in CT:\n",
    "   c=toss+x\n",
    "   tree.append(c)\n",
    " treeU=tree\n",
    " tree=[]\n",
    " #IP1\n",
    "print(treeU) #Prints the current leaves of the tree diagram\n",
    "\n",
    "for i in range(0,2):\n",
    " for roll in treeU:\n",
    "  for x in RD:\n",
    "   c=roll+x\n",
    "   tree.append(c)\n",
    " treeU=tree\n",
    " #IP2\n",
    " tree=[]\n",
    "print(treeU) #Prints current leaves in the tree diagram\n",
    "#IP3:Let's find the number of elements in the sample space\n",
    "#print(len(treeU))\n",
    "#IP4:Let's find the same thing by a direct calculation.\n",
    "#print(2*2*2*6*6)\n",
    "#IP5:Let's print the first ten elements in our sample space.\n",
    "#print(treeU[0:10])\n",
    "#treeUfin=', '.join(treeU)\n",
    "#IP6: Let's print the complete sample space\n",
    "#print({treeUfin})"
   ]
  },
  {
   "cell_type": "markdown",
   "metadata": {},
   "source": [
    "Event C: At least one head and at least one odd number"
   ]
  },
  {
   "cell_type": "code",
   "execution_count": 10,
   "metadata": {},
   "outputs": [
    {
     "name": "stdout",
     "output_type": "stream",
     "text": [
      "set1 U set2:  {2, 4, 5, 6, 7, 8}\n",
      "set1 U set2 U set3:  {2, 4, 5, 6, 7, 8, 9, 10}\n",
      "set1 intersect set2 {4, 6}\n",
      "set1 intersect set2 intersect set3 set()\n",
      "A= {'HHH11,HHH12,HHH13,HHH14,HHH15,HHH16,HHH21,HHH22,HHH23,HHH24,HHH25,HHH26,HHH31,HHH32,HHH33,HHH34,HHH35,HHH36,HHH41,HHH42,HHH43,HHH44,HHH45,HHH46,HHH51,HHH52,HHH53,HHH54,HHH55,HHH56,HHH61,HHH62,HHH63,HHH64,HHH65,HHH66'}\n",
      "B= <class 'str'> {'HHH66,HHT66,HTH66,HTT66,THH66,THT66,TTH66,TTT66'}\n"
     ]
    }
   ],
   "source": [
    "set1={2,4,5,6}\n",
    "set2={4,6,7,8}\n",
    "set3={7,8,9,10}\n",
    "\n",
    "#union of two sets\n",
    "print(\"set1 U set2: \",set1.union(set2))\n",
    "#union of three sets\n",
    "print(\"set1 U set2 U set3: \",set1.union(set2,set3))\n",
    "#intersection of two sets\n",
    "print(\"set1 intersect set2\", set1.intersection(set2))\n",
    "#intersection of three sets\n",
    "print(\"set1 intersect set2 intersect set3\",set1.intersection(set2,set3))\n",
    "\n",
    "allheads=[]\n",
    "for roll in treeU:\n",
    "    if roll[0]==\"H\" and roll[1]==\"H\" and roll[2]==\"H\":\n",
    "        allheads.append(roll)\n",
    "allheadsfin=\",\".join(allheads)\n",
    "print(\"A=\",{allheadsfin})\n",
    "\n",
    "allsix=[]\n",
    "for roll in treeU:\n",
    "    if roll[3]==\"6\" and roll[4]==\"6\":\n",
    "        allsix.append(roll)\n",
    "allsixfin=\",\".join(allsix)\n",
    "print(\"B=\",type(allsixfin),{allsixfin})\n",
    "\n",
    "setS=set(treeU)\n",
    "setA=set(allheads)\n",
    "setB=set(allsix)\n"
   ]
  },
  {
   "cell_type": "code",
   "execution_count": 16,
   "metadata": {},
   "outputs": [
    {
     "name": "stdout",
     "output_type": "stream",
     "text": [
      "['TTT11', 'TTT12', 'TTT13', 'TTT14', 'TTT15', 'TTT16', 'TTT21', 'TTT22', 'TTT23', 'TTT24', 'TTT25', 'TTT26', 'TTT31', 'TTT32', 'TTT33', 'TTT34', 'TTT35', 'TTT36', 'TTT41', 'TTT42', 'TTT43', 'TTT44', 'TTT45', 'TTT46', 'TTT51', 'TTT52', 'TTT53', 'TTT54', 'TTT55', 'TTT56', 'TTT61', 'TTT62', 'TTT63', 'TTT64', 'TTT65', 'TTT66']\n",
      "['HHH22', 'HHH24', 'HHH26', 'HHH42', 'HHH44', 'HHH46', 'HHH62', 'HHH64', 'HHH66', 'HHT22', 'HHT24', 'HHT26', 'HHT42', 'HHT44', 'HHT46', 'HHT62', 'HHT64', 'HHT66', 'HTH22', 'HTH24', 'HTH26', 'HTH42', 'HTH44', 'HTH46', 'HTH62', 'HTH64', 'HTH66', 'HTT22', 'HTT24', 'HTT26', 'HTT42', 'HTT44', 'HTT46', 'HTT62', 'HTT64', 'HTT66', 'THH22', 'THH24', 'THH26', 'THH42', 'THH44', 'THH46', 'THH62', 'THH64', 'THH66', 'THT22', 'THT24', 'THT26', 'THT42', 'THT44', 'THT46', 'THT62', 'THT64', 'THT66', 'TTH22', 'TTH24', 'TTH26', 'TTH42', 'TTH44', 'TTH46', 'TTH62', 'TTH64', 'TTH66', 'TTT22', 'TTT24', 'TTT26', 'TTT42', 'TTT44', 'TTT46', 'TTT62', 'TTT64', 'TTT66']\n",
      "SetC: {'THT14', 'TTH51', 'THH61', 'HHH43', 'HTT56', 'TTH52', 'HTH51', 'HTT51', 'HHH41', 'HTH14', 'HHH13', 'HHH65', 'THH13', 'HHH54', 'HTT13', 'HTH34', 'HTH63', 'THT63', 'HHT34', 'HTH25', 'HHT23', 'TTH21', 'THT15', 'HTT15', 'THH23', 'HHH15', 'HHT11', 'HTH52', 'HHH63', 'HTH35', 'THT23', 'HTH32', 'HHH56', 'TTH36', 'THT13', 'HHH45', 'HTT16', 'HTH23', 'THT32', 'THT52', 'HTH16', 'HTH15', 'HHH23', 'TTH23', 'TTH33', 'HTH21', 'THH43', 'TTH53', 'HTH65', 'HHH61', 'TTH41', 'HTH31', 'HTT25', 'THT56', 'HHH25', 'HTT36', 'THT35', 'HHH21', 'THH63', 'HTH55', 'THH21', 'HHH32', 'HTT14', 'HHH11', 'HTT23', 'THH32', 'HHH36', 'TTH12', 'TTH11', 'THT51', 'HHT15', 'THH12', 'HHT54', 'HHT21', 'HTH53', 'HTT11', 'HTT33', 'HTH54', 'THT61', 'THH53', 'HTH56', 'THT21', 'THT25', 'HHT14', 'THT36', 'HHT41', 'HTT31', 'HHT53', 'HHH53', 'HTH13', 'THH56', 'TTH43', 'HTT21', 'TTH35', 'TTH54', 'TTH32', 'TTH25', 'THH55', 'HHT52', 'THH34', 'THT31', 'THH25', 'HTT12', 'TTH31', 'THH54', 'THH41', 'TTH34', 'HHH12', 'TTH55', 'HHT35', 'HHT61', 'HHT45', 'HHT16', 'TTH15', 'HTT65', 'THT54', 'HHH55', 'THH65', 'HTT41', 'THH14', 'HTT45', 'HTH33', 'HTT43', 'HHT31', 'TTH16', 'HHT43', 'HTT35', 'HTT52', 'HHT56', 'TTH56', 'HHT25', 'TTH61', 'THT43', 'THH51', 'HHH51', 'HHT65', 'HHT12', 'HTT32', 'THH45', 'HTT54', 'HHH35', 'HTT53', 'THH16', 'THT65', 'THH36', 'THT12', 'HTH41', 'THH15', 'HHT13', 'HHT55', 'THT11', 'THT45', 'HTH43', 'THT53', 'HTH11', 'HTH61', 'HHT36', 'THH31', 'THH33', 'THH11', 'HHT33', 'TTH65', 'HHT32', 'HTH45', 'THT55', 'HTT55', 'THT33', 'THH35', 'THT41', 'THT16', 'TTH13', 'HHT63', 'HHH16', 'HHH52', 'HTT34', 'TTH45', 'TTH14', 'HHH31', 'HTT63', 'HHH14', 'HTH12', 'THH52', 'TTH63', 'HTH36', 'THT34', 'HTT61', 'HHH33', 'HHH34', 'HHT51'}\n",
      "Cardinality of C =  189\n"
     ]
    }
   ],
   "source": [
    "noheads=[]\n",
    "for roll in treeU:\n",
    "    if not \"H\" in roll:\n",
    "        noheads.append(roll)\n",
    "print(noheads)\n",
    "setE=set(noheads)\n",
    "\n",
    "noOdd=[]\n",
    "for roll in treeU:\n",
    "    if int(roll[3])%2!=1 and int(roll[4])%2!=1:\n",
    "        noOdd.append(roll)\n",
    "print(noOdd)\n",
    "setF=set(noOdd)\n",
    "\n",
    "setG=setE.union(setF)\n",
    "setC=setS-setG\n",
    "print(\"SetC:\",setC)\n",
    "print(\"Cardinality of C = \",len(setC))\n"
   ]
  }
 ],
 "metadata": {
  "interpreter": {
   "hash": "aee8b7b246df8f9039afb4144a1f6fd8d2ca17a180786b69acc140d282b71a49"
  },
  "kernelspec": {
   "display_name": "Python 3.10.1 64-bit",
   "language": "python",
   "name": "python3"
  },
  "language_info": {
   "codemirror_mode": {
    "name": "ipython",
    "version": 3
   },
   "file_extension": ".py",
   "mimetype": "text/x-python",
   "name": "python",
   "nbconvert_exporter": "python",
   "pygments_lexer": "ipython3",
   "version": "3.10.1"
  },
  "orig_nbformat": 4
 },
 "nbformat": 4,
 "nbformat_minor": 2
}
