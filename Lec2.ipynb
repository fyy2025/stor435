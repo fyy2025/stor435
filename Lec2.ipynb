{
 "cells": [
  {
   "cell_type": "code",
   "execution_count": 8,
   "metadata": {},
   "outputs": [
    {
     "name": "stdout",
     "output_type": "stream",
     "text": [
      "3\n",
      "1\n",
      "5\n",
      "5\n",
      "4\n",
      "1\n",
      "6\n",
      "1\n",
      "1\n"
     ]
    }
   ],
   "source": [
    "import random\n",
    "sides=6\n",
    "for _ in range(1,10):\n",
    "    print(random.randint(1,sides))"
   ]
  },
  {
   "cell_type": "code",
   "execution_count": 16,
   "metadata": {},
   "outputs": [
    {
     "name": "stdout",
     "output_type": "stream",
     "text": [
      "[0.162, 0.182, 0.156, 0.17, 0.159, 0.171]\n",
      "[0.149, 0.167, 0.175, 0.176, 0.189, 0.144]\n",
      "[0.166, 0.174, 0.168, 0.157, 0.169, 0.166]\n"
     ]
    }
   ],
   "source": [
    "M=1000\n",
    "runs=3\n",
    "for i in range(0,runs):\n",
    "    n:int=0\n",
    "    succ=[0,0,0,0,0,0]\n",
    "    while n < M :\n",
    "        rec=random.randint(1,sides)\n",
    "        succ[rec-1]+=1\n",
    "        n+=1\n",
    "    rel_freq=[element/M for element in succ]\n",
    "    print(rel_freq)\n"
   ]
  },
  {
   "cell_type": "markdown",
   "metadata": {},
   "source": [
    "How often we see a sum larger than 8"
   ]
  },
  {
   "cell_type": "code",
   "execution_count": 25,
   "metadata": {},
   "outputs": [
    {
     "name": "stdout",
     "output_type": "stream",
     "text": [
      "0.278 0.2777777777777778\n"
     ]
    }
   ],
   "source": [
    "sides=6\n",
    "M=10000\n",
    "runs=1\n",
    "for i in range(0,runs):\n",
    "    n=0\n",
    "    count=0\n",
    "    while n<M:\n",
    "        one=random.randint(1,sides)\n",
    "        two=random.randint(1,sides)\n",
    "        if one+two>8:\n",
    "            count+=1\n",
    "        n+=1\n",
    "print(count/M,10/36)"
   ]
  },
  {
   "cell_type": "markdown",
   "metadata": {},
   "source": [
    "The probabilities of having a sum of 9,10,11,12 are different"
   ]
  },
  {
   "cell_type": "code",
   "execution_count": 32,
   "metadata": {},
   "outputs": [
    {
     "name": "stdout",
     "output_type": "stream",
     "text": [
      "[120, 108, 51, 22]\n"
     ]
    }
   ],
   "source": [
    "for i in range(0,1):\n",
    "    count=[0,0,0,0]\n",
    "    for j in range(1000):\n",
    "        one=random.randint(1,6)\n",
    "        two=random.randint(1,6)\n",
    "        sum=one+two\n",
    "        if (sum>=9):\n",
    "            count[sum-9]+=1\n",
    "print(count)"
   ]
  }
 ],
 "metadata": {
  "interpreter": {
   "hash": "aee8b7b246df8f9039afb4144a1f6fd8d2ca17a180786b69acc140d282b71a49"
  },
  "kernelspec": {
   "display_name": "Python 3.10.1 64-bit",
   "language": "python",
   "name": "python3"
  },
  "language_info": {
   "codemirror_mode": {
    "name": "ipython",
    "version": 3
   },
   "file_extension": ".py",
   "mimetype": "text/x-python",
   "name": "python",
   "nbconvert_exporter": "python",
   "pygments_lexer": "ipython3",
   "version": "3.10.1"
  },
  "orig_nbformat": 4
 },
 "nbformat": 4,
 "nbformat_minor": 2
}
